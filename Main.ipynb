{
 "cells": [
  {
   "cell_type": "code",
   "execution_count": null,
   "id": "8d5a6d15",
   "metadata": {},
   "outputs": [],
   "source": [
    "import numpy as np\n",
    "import matplotlib.pyplot as plt\n",
    "import seaborn as sns\n",
    "from Load import load_cifar10, load_model\n",
    "from Search import hyperparameter_tuning\n",
    "from Model import ThreeLayerNN \n",
    "from Train import train\n",
    "from Evaluate import evaluate"
   ]
  },
  {
   "cell_type": "markdown",
   "id": "02ea4f1b",
   "metadata": {},
   "source": [
    "# 数据加载"
   ]
  },
  {
   "cell_type": "code",
   "execution_count": null,
   "id": "7838800a",
   "metadata": {},
   "outputs": [],
   "source": [
    "np.random.seed(10)\n",
    "data_dir = './cifar-10-batches-py'  # 文件路径\n",
    "X_train, y_train, X_val, y_val, X_test, y_test = load_cifar10(data_dir)"
   ]
  },
  {
   "cell_type": "markdown",
   "id": "27a80310",
   "metadata": {},
   "source": [
    "# 超参数搜索"
   ]
  },
  {
   "cell_type": "code",
   "execution_count": null,
   "id": "60fb7946",
   "metadata": {},
   "outputs": [],
   "source": [
    "best_params = hyperparameter_tuning(X_train, y_train, X_val, y_val)"
   ]
  },
  {
   "cell_type": "markdown",
   "id": "4dfaa3c6",
   "metadata": {},
   "source": [
    "# 模型训练 + 保存(使用最优超参数)"
   ]
  },
  {
   "cell_type": "code",
   "execution_count": null,
   "id": "82dccc80",
   "metadata": {},
   "outputs": [],
   "source": [
    "np.random.seed(10)\n",
    "final_model = ThreeLayerNN(3072, best_params['hidden_size'], 10, \n",
    "                         activation='relu', reg=best_params['reg'])\n",
    "final_model = train(final_model, X_train, y_train, X_val, y_val,\n",
    "                  epochs=100, learning_rate=best_params['lr'])\n",
    "final_model.save('my_model.npz')"
   ]
  },
  {
   "cell_type": "code",
   "execution_count": null,
   "id": "8a609385",
   "metadata": {},
   "outputs": [],
   "source": [
    "# 3. 模型训练 + 保存(使用最优超参数)\n",
    "np.random.seed(10)\n",
    "final_model = ThreeLayerNN(3072, 256, 10, \n",
    "                         activation='relu', reg=1e-4)\n",
    "final_model = train(final_model, X_train, y_train, X_val, y_val,\n",
    "                  epochs=50, learning_rate=0.03)\n",
    "final_model.save('my_model.npz')"
   ]
  },
  {
   "cell_type": "markdown",
   "id": "1764f4ef",
   "metadata": {},
   "source": [
    "# 测试"
   ]
  },
  {
   "cell_type": "code",
   "execution_count": null,
   "id": "9a63012b",
   "metadata": {},
   "outputs": [],
   "source": [
    "# 4. 测试集\n",
    "my_model = load_model('my_model.npz')\n",
    "test_acc = evaluate(my_model, X_test, y_test)\n",
    "print(f'Test Accuracy: {test_acc:.4f}')"
   ]
  },
  {
   "cell_type": "markdown",
   "id": "1a78d32e",
   "metadata": {},
   "source": [
    "# 参数分布"
   ]
  },
  {
   "cell_type": "code",
   "execution_count": null,
   "id": "e14a662d",
   "metadata": {},
   "outputs": [],
   "source": [
    "def visualize_parameters(model):\n",
    "    \"\"\"可视化神经网络参数\"\"\"\n",
    "    plt.figure(figsize=(15, 10))\n",
    "    \n",
    "    # W1 可视化\n",
    "    plt.subplot(2, 2, 1)\n",
    "    sns.heatmap(model.params['W1'], cmap='coolwarm', center=0)\n",
    "    plt.title('W1 Weight Matrix')\n",
    "    plt.xlabel('Hidden Units')\n",
    "    plt.ylabel('Input Features')\n",
    "    \n",
    "    # W2 可视化\n",
    "    plt.subplot(2, 2, 2)\n",
    "    sns.heatmap(model.params['W2'], cmap='coolwarm', center=0)\n",
    "    plt.title('W2 Weight Matrix')\n",
    "    plt.xlabel('Output Classes')\n",
    "    plt.ylabel('Hidden Units')\n",
    "    \n",
    "    # b1 可视化\n",
    "    plt.subplot(2, 2, 3)\n",
    "    plt.plot(range(len(model.params['b1'])), model.params['b1'])\n",
    "    plt.title('b1 Bias Vector')\n",
    "    plt.xlabel('Hidden Units')\n",
    "    plt.ylabel('Bias Value')\n",
    "    \n",
    "    # b2 可视化\n",
    "    plt.subplot(2, 2, 4)\n",
    "    plt.plot(range(len(model.params['b2'])), model.params['b2'])\n",
    "    plt.title('b2 Bias Vector')\n",
    "    plt.xlabel('Output Classes')\n",
    "    plt.ylabel('Bias Value')\n",
    "    \n",
    "    plt.tight_layout()\n",
    "    plt.show()"
   ]
  },
  {
   "cell_type": "code",
   "execution_count": null,
   "id": "fd301e56",
   "metadata": {},
   "outputs": [],
   "source": [
    "visualize_parameters(my_model)"
   ]
  }
 ],
 "metadata": {
  "kernelspec": {
   "display_name": "Python 3 (ipykernel)",
   "language": "python",
   "name": "python3"
  },
  "language_info": {
   "codemirror_mode": {
    "name": "ipython",
    "version": 3
   },
   "file_extension": ".py",
   "mimetype": "text/x-python",
   "name": "python",
   "nbconvert_exporter": "python",
   "pygments_lexer": "ipython3",
   "version": "3.10.9"
  },
  "toc": {
   "base_numbering": 1,
   "nav_menu": {},
   "number_sections": true,
   "sideBar": true,
   "skip_h1_title": false,
   "title_cell": "Table of Contents",
   "title_sidebar": "Contents",
   "toc_cell": false,
   "toc_position": {},
   "toc_section_display": true,
   "toc_window_display": false
  }
 },
 "nbformat": 4,
 "nbformat_minor": 5
}
